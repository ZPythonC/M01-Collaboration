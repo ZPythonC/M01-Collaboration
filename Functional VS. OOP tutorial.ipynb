{
 "cells": [
  {
   "cell_type": "code",
   "execution_count": 3,
   "id": "9bbe55cc",
   "metadata": {},
   "outputs": [
    {
     "data": {
      "text/plain": [
       "113.04"
      ]
     },
     "execution_count": 3,
     "metadata": {},
     "output_type": "execute_result"
    }
   ],
   "source": [
    "#Function to determine the volume of a shpere with a radius as input.\n",
    "def sv(rad):\n",
    "    vol = 4/3 * 3.14 * (rad**3)\n",
    "    return round(vol, 2)\n",
    "sv(3)"
   ]
  },
  {
   "cell_type": "code",
   "execution_count": 11,
   "id": "5d4d792a",
   "metadata": {},
   "outputs": [
    {
     "name": "stdout",
     "output_type": "stream",
     "text": [
      "1 is not in the range of 2 and 9\n"
     ]
    }
   ],
   "source": [
    "#Function to check if a number is in a given range.\n",
    "def rang3(num, low, high):\n",
    "    if num > low and num < high:\n",
    "        print(str(num) + \" is in the range of \" + str(low) + \n",
    "              \" and \" + str(high))\n",
    "    else:\n",
    "        print(str(num) + \" is not in the range of \" + \n",
    "              str(low) + \" and \" + str(high))\n",
    "rang3(1, 2, 9)"
   ]
  },
  {
   "cell_type": "code",
   "execution_count": 13,
   "id": "f8d3855d",
   "metadata": {},
   "outputs": [
    {
     "name": "stdout",
     "output_type": "stream",
     "text": [
      "Uppercase letters: 1\n",
      "Lowercase letters: 13\n",
      "Other characters and blank spaces: 4\n"
     ]
    }
   ],
   "source": [
    "#Function to find the number of upper and lower case letters in a sentence.\n",
    "def caseCheck(s):\n",
    "    upNum = 0\n",
    "    lowNum = 0\n",
    "    blankNum = 0\n",
    "    for letter in s:\n",
    "        if letter.isupper():\n",
    "            upNum += 1\n",
    "        elif letter.islower():\n",
    "            lowNum += 1\n",
    "        else:\n",
    "            blankNum += 1\n",
    "    print(\"Uppercase letters: \" + str(upNum))\n",
    "    print(\"Lowercase letters: \" + str(lowNum))\n",
    "    print(\"Other characters and blank spaces: \" + str(blankNum))\n",
    "caseCheck(\"I hope this works!\")\n",
    "            "
   ]
  },
  {
   "cell_type": "code",
   "execution_count": 18,
   "id": "b172b7c6",
   "metadata": {},
   "outputs": [
    {
     "name": "stdout",
     "output_type": "stream",
     "text": [
      "[1, 2, 4, 5]\n"
     ]
    }
   ],
   "source": [
    "#Function to find unique numbers in a list.\n",
    "def unique(lst):\n",
    "    unlst = []\n",
    "    unlst.append(lst[0])\n",
    "    for i in lst:\n",
    "        num = 0\n",
    "        for j in unlst:\n",
    "            if i == j:\n",
    "                num += 1\n",
    "        if num == 0:\n",
    "            unlst.append(i)\n",
    "    print(unlst)\n",
    "unique([1, 1, 2, 2, 4, 4, 5, 5])"
   ]
  },
  {
   "cell_type": "code",
   "execution_count": 19,
   "id": "d6a28c42",
   "metadata": {},
   "outputs": [
    {
     "name": "stdout",
     "output_type": "stream",
     "text": [
      "-3628800\n"
     ]
    }
   ],
   "source": [
    "#Function to multiply all numbers in a [list.\n",
    "def mult(lst):\n",
    "    num = 1\n",
    "    for i in lst:\n",
    "        num *= i\n",
    "    print(num)\n",
    "mult([1, 2, 3, 4, 5, 6, 7, 8, 9, -10])"
   ]
  },
  {
   "cell_type": "code",
   "execution_count": 23,
   "id": "3d4c6b73",
   "metadata": {},
   "outputs": [
    {
     "name": "stdout",
     "output_type": "stream",
     "text": [
      "False\n"
     ]
    }
   ],
   "source": [
    "#Function to check string for pallindrome.\n",
    "def pal(s):\n",
    "    if s == s[::-1]:\n",
    "        print(\"True\")\n",
    "    else:\n",
    "        print(\"False\")\n",
    "pal(\"race\")"
   ]
  },
  {
   "cell_type": "code",
   "execution_count": 45,
   "id": "b6897112",
   "metadata": {},
   "outputs": [
    {
     "name": "stdout",
     "output_type": "stream",
     "text": [
      "Pangram\n"
     ]
    }
   ],
   "source": [
    "#Function to find a pangram.\n",
    "def pangram(s):\n",
    "    unNum = 0\n",
    "    unlst = []\n",
    "    unlst.append(s[0].lower())\n",
    "    upNum = 0\n",
    "    lowNum = 0\n",
    "    blankNum = 0\n",
    "    for i in s.lower():\n",
    "        if i.islower() == False:\n",
    "            blankNum += 1\n",
    "        num = 0\n",
    "        for j in unlst:\n",
    "            if i == j:\n",
    "                num += 1\n",
    "        if num == 0 and i.islower():\n",
    "            unNum += 1\n",
    "            unlst.append(i)\n",
    "    if unNum == 25:\n",
    "        print(\"Pangram\")\n",
    "    else:\n",
    "        print(\"Not Pangram\")\n",
    "pangram(\"The quick brown fox jumps over the lazy dog.\")"
   ]
  },
  {
   "cell_type": "code",
   "execution_count": 93,
   "id": "9328d5a2",
   "metadata": {},
   "outputs": [
    {
     "name": "stdout",
     "output_type": "stream",
     "text": [
      "coordinate 1: (3, -1)\n",
      "coordinate 2: (5, 3)\n",
      "4.47213595499958\n",
      "2.0\n"
     ]
    }
   ],
   "source": [
    "#Class to determine the slope and distance of a line.\n",
    "import math\n",
    "class Line(object):\n",
    "    def __init__(self,coor1,coor2):\n",
    "        self.x1 = coor1[0]\n",
    "        self.y1 = coor1[1]\n",
    "        self.x2 = coor2[0]\n",
    "        self.y2 = coor2[1]\n",
    "        print(\"coordinate 1: \" + str(coor1))\n",
    "        print(\"coordinate 2: \" + str(coor2))\n",
    "        self.distance()\n",
    "        self.slope()\n",
    "    def distance(self):\n",
    "        self.A = (self.x2 - self.x1)**2\n",
    "        self.B = (self.y2 - self.y1)**2\n",
    "        self.C = math.sqrt(A + B)\n",
    "        print(round(C, 2))\n",
    "    def slope(self):\n",
    "        self.a = self.y2 - self.y1\n",
    "        self.b = self.x2 - self.x1\n",
    "        self.c = a/b\n",
    "        print(c)\n",
    "def main():\n",
    "    Line((3,-1), (5,3))\n",
    "main()"
   ]
  },
  {
   "cell_type": "code",
   "execution_count": 101,
   "id": "85233f48",
   "metadata": {},
   "outputs": [
    {
     "name": "stdout",
     "output_type": "stream",
     "text": [
      "3140.0\n",
      "1256.0\n"
     ]
    }
   ],
   "source": [
    "class Cylinder:\n",
    "    def __init__(self, height=1, radius=1):\n",
    "        self.h = height\n",
    "        self.r = radius\n",
    "        self.pi = 3.14\n",
    "        self.volume()\n",
    "        self.surface_area()\n",
    "    def volume(self):\n",
    "        self.vol = self.pi * (self.r**2) * self.h\n",
    "        print(round(self.vol, 2))\n",
    "    def surface_area(self):\n",
    "        self.one = 2 * self.pi * self.r * self.h\n",
    "        self.two = 2 * self.pi * (self.r**2)\n",
    "        self.SA = self.one + self.two\n",
    "        print(round(self.SA, 2))\n",
    "def main():\n",
    "    Cylinder(10, 10)\n",
    "main()"
   ]
  }
 ],
 "metadata": {
  "kernelspec": {
   "display_name": "Python 3 (ipykernel)",
   "language": "python",
   "name": "python3"
  },
  "language_info": {
   "codemirror_mode": {
    "name": "ipython",
    "version": 3
   },
   "file_extension": ".py",
   "mimetype": "text/x-python",
   "name": "python",
   "nbconvert_exporter": "python",
   "pygments_lexer": "ipython3",
   "version": "3.9.13"
  }
 },
 "nbformat": 4,
 "nbformat_minor": 5
}
