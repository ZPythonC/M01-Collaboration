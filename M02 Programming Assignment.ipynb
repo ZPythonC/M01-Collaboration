{
 "cells": [
  {
   "cell_type": "code",
   "execution_count": 7,
   "id": "f9d7dd18",
   "metadata": {
    "scrolled": true
   },
   "outputs": [
    {
     "name": "stdout",
     "output_type": "stream",
     "text": [
      "Too low.\n"
     ]
    }
   ],
   "source": [
    "#4.1\n",
    "#Value of Secret.\n",
    "secret = 9\n",
    "#Value of Guess.\n",
    "guess = 7\n",
    "#Loop comparing Guess and Secret to each other.\n",
    "#If too low, print \"Too low.\"\n",
    "if guess < secret:\n",
    "    print(\"Too low.\")\n",
    "#If too high, print \"Too high.\"\n",
    "elif guess > secret:\n",
    "    print(\"Too high.\")\n",
    "#All that remains is if equal to, print \"Just right.\"\n",
    "else:\n",
    "    print(\"Just right.\")"
   ]
  },
  {
   "cell_type": "code",
   "execution_count": 8,
   "id": "5b14a770",
   "metadata": {},
   "outputs": [
    {
     "name": "stdout",
     "output_type": "stream",
     "text": [
      "watermelon\n"
     ]
    }
   ],
   "source": [
    "#4.2\n",
    "#Value of small.\n",
    "small = False\n",
    "#Value of green.\n",
    "green = True\n",
    "#Conditinal comparing small and green to various foods.\n",
    "#If small is True and green is True, print \"pea.\"\n",
    "if small == True and green == True:\n",
    "    print(\"pea\")\n",
    "#If small is True and green is false, print \"cherry.\"\n",
    "elif small == True and green == False:\n",
    "    print(\"cherry\")\n",
    "#If small is false and green is true, print \"watermelon.\"\n",
    "elif small == False and green == True:\n",
    "    print(\"watermelon\")\n",
    "#All that's left is small is false and green is false, \n",
    "#print \"pumpkin.\"\n",
    "else:\n",
    "    print(\"pumpkin\")"
   ]
  },
  {
   "cell_type": "code",
   "execution_count": 9,
   "id": "030cf699",
   "metadata": {
    "collapsed": true
   },
   "outputs": [
    {
     "name": "stdout",
     "output_type": "stream",
     "text": [
      "3\n",
      "2\n",
      "1\n",
      "0\n"
     ]
    }
   ],
   "source": [
    "#6.1\n",
    "#list of values.\n",
    "numlist = [3, 2, 1, 0]\n",
    "#For loop to print numlist.\n",
    "for num in numlist:\n",
    "    print(num)"
   ]
  },
  {
   "cell_type": "code",
   "execution_count": 12,
   "id": "1763e1c7",
   "metadata": {},
   "outputs": [
    {
     "name": "stdout",
     "output_type": "stream",
     "text": [
      "too low\n",
      "too low\n",
      "too low\n",
      "too low\n",
      "too low\n",
      "too low\n",
      "found it!\n"
     ]
    }
   ],
   "source": [
    "#6.2\n",
    "#Value of guess_me.\n",
    "guess_me = 7\n",
    "#Value of number.\n",
    "number = 1\n",
    "#While loop to check if number is less than guess_me.\n",
    "while number < guess_me:\n",
    "    print(\"too low\")\n",
    "    number += 1\n",
    "#Now that while loop is ended, number is either equal to\n",
    "#or greater than guess_me. Use if conditional to find out.\n",
    "if number == guess_me:\n",
    "    print(\"found it!\")\n",
    "else:\n",
    "    print(\"oops\")"
   ]
  },
  {
   "cell_type": "code",
   "execution_count": 15,
   "id": "e4363f47",
   "metadata": {},
   "outputs": [
    {
     "name": "stdout",
     "output_type": "stream",
     "text": [
      "too low\n",
      "too low\n",
      "too low\n",
      "too low\n",
      "too low\n",
      "found it!\n"
     ]
    }
   ],
   "source": [
    "#6.3\n",
    "#Value of guess_me\n",
    "guess_me = 5\n",
    "#For loop to increment number.\n",
    "for number in range(10):\n",
    "#Check if number is less than, equal to, or greater than \n",
    "#guess_me.\n",
    "#If number is equal to guess_me, print \"found it\" and\n",
    "#break the loop.\n",
    "    if number == guess_me:\n",
    "        print(\"found it!\")\n",
    "        break\n",
    "#If number is less than guess_me, print \"too low\" and\n",
    "#the while loop will continue.\n",
    "    elif number < guess_me:\n",
    "        print(\"too low\")\n",
    "#All that remains is if number is greater than guess_me, \n",
    "#print \"oops\" and break the loop.\n",
    "    else:\n",
    "        print(\"oops\")\n",
    "        break"
   ]
  }
 ],
 "metadata": {
  "kernelspec": {
   "display_name": "Python 3 (ipykernel)",
   "language": "python",
   "name": "python3"
  },
  "language_info": {
   "codemirror_mode": {
    "name": "ipython",
    "version": 3
   },
   "file_extension": ".py",
   "mimetype": "text/x-python",
   "name": "python",
   "nbconvert_exporter": "python",
   "pygments_lexer": "ipython3",
   "version": "3.9.13"
  }
 },
 "nbformat": 4,
 "nbformat_minor": 5
}
