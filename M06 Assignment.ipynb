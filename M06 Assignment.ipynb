{
 "cells": [
  {
   "cell_type": "code",
   "execution_count": 48,
   "id": "8447895f",
   "metadata": {},
   "outputs": [],
   "source": [
    "#13.1 Print the current date as a string to today.txt.\n",
    "import datetime\n",
    "now = date.today()\n",
    "now_str = now.isoformat()\n",
    "with open('today.txt', 'wt') as output:\n",
    "    print(now_str, file=output)"
   ]
  },
  {
   "cell_type": "code",
   "execution_count": 49,
   "id": "765273f7",
   "metadata": {},
   "outputs": [
    {
     "name": "stdout",
     "output_type": "stream",
     "text": [
      "2023-02-22\n",
      "\n"
     ]
    }
   ],
   "source": [
    "#13.2 Read today.txt into string today_string.\n",
    "with open('today.txt', 'rt') as input:\n",
    "    today_string = input.read()\n",
    "print(today_string)"
   ]
  },
  {
   "cell_type": "code",
   "execution_count": 50,
   "id": "5b18919e",
   "metadata": {},
   "outputs": [
    {
     "name": "stdout",
     "output_type": "stream",
     "text": [
      "Year = 2023\n",
      "Month = 2\n",
      "Day = 22\n"
     ]
    }
   ],
   "source": [
    "#13.3\n",
    "fmt = '%Y-%m-%d\\n'\n",
    "dt = datetime.datetime.strptime(today_string, fmt)\n",
    "print(\"Year = \" + str(dt.year))\n",
    "print(\"Month = \" + str(dt.month))\n",
    "print(\"Day = \" + str(dt.day))"
   ]
  }
 ],
 "metadata": {
  "kernelspec": {
   "display_name": "Python 3 (ipykernel)",
   "language": "python",
   "name": "python3"
  },
  "language_info": {
   "codemirror_mode": {
    "name": "ipython",
    "version": 3
   },
   "file_extension": ".py",
   "mimetype": "text/x-python",
   "name": "python",
   "nbconvert_exporter": "python",
   "pygments_lexer": "ipython3",
   "version": "3.9.13"
  }
 },
 "nbformat": 4,
 "nbformat_minor": 5
}
